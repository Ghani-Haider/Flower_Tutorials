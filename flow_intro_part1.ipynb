{
 "cells": [
  {
   "cell_type": "code",
   "execution_count": 34,
   "metadata": {},
   "outputs": [
    {
     "name": "stdout",
     "output_type": "stream",
     "text": [
      "Training on cuda using Pytorch 2.2.1+cu121 and Flower 1.7.0\n"
     ]
    }
   ],
   "source": [
    "from os import cpu_count\n",
    "from collections import OrderedDict\n",
    "from typing import Tuple, List\n",
    "\n",
    "import matplotlib.pyplot as plt\n",
    "import numpy as np\n",
    "import torch\n",
    "import torch.nn as nn\n",
    "import torch.nn.functional as F\n",
    "import torchvision.transforms as transforms\n",
    "from datasets.utils.logging import disable_progress_bar\n",
    "from torch.utils.data import DataLoader\n",
    "\n",
    "import flwr as fl\n",
    "from flwr.common import Metrics\n",
    "from flwr_datasets import FederatedDataset\n",
    "\n",
    "DEVICE = torch.device('cuda') if torch.cuda.is_available() else torch.device('cpu')\n",
    "print(f\"Training on {DEVICE} using Pytorch {torch.__version__} and Flower {fl.__version__}\")\n",
    "disable_progress_bar()"
   ]
  },
  {
   "cell_type": "markdown",
   "metadata": {},
   "source": [
    "### Loading The Dataset\n",
    "\n",
    "Loading CIFAR10 dataset and splitting it into 10 different partitions/dataloader which can be considered as 10 different clients/organizations."
   ]
  },
  {
   "cell_type": "code",
   "execution_count": 35,
   "metadata": {},
   "outputs": [],
   "source": [
    "NUM_CLIENTS = 2\n",
    "BATCH_SIZE = 32\n",
    "NUM_WORKERS = cpu_count()"
   ]
  },
  {
   "cell_type": "code",
   "execution_count": 36,
   "metadata": {},
   "outputs": [],
   "source": [
    "def load_transform_data():\n",
    "    # load dataset\n",
    "    fds = FederatedDataset(dataset='cifar10', partitioners={'train': NUM_CLIENTS})\n",
    "    \n",
    "    # image transformation per batch\n",
    "    def transform_batch(batch):\n",
    "        transform = transforms.Compose([\n",
    "            transforms.ToTensor(),\n",
    "            transforms.Normalize((0.5, 0.5, 0.5), (0.5, 0.5, 0.5))\n",
    "        ])\n",
    "        # transform batch images\n",
    "        batch['img'] = [transform(img) for img in batch['img']]\n",
    "        return batch\n",
    "    \n",
    "    # create train/val for each partitioner and load in torch dataloader\n",
    "    train_loader = []\n",
    "    val_loader = []\n",
    "    \n",
    "    # loading splitted dataset as individual partitions/new datasets\n",
    "    for partition_id in range(NUM_CLIENTS):\n",
    "        # load a specific splitted dataset into a partition/as a new dataset\n",
    "        partition = fds.load_partition(node_id=partition_id, split='train')\n",
    "        # transformation function for the new dataset/partition batches\n",
    "        partition = partition.with_transform(transform_batch)\n",
    "        # create train test split for the new dataset/partition\n",
    "        partition = partition.train_test_split(\n",
    "            train_size=0.8,\n",
    "            test_size=0.2,\n",
    "            shuffle=True)\n",
    "        # create train and test dataloader\n",
    "        train_loader.append(DataLoader(\n",
    "            dataset=partition['train'],\n",
    "            batch_size=BATCH_SIZE,\n",
    "            num_workers=NUM_WORKERS,\n",
    "            shuffle=True\n",
    "            ))\n",
    "        val_loader.append(DataLoader(\n",
    "            dataset=partition['test'],\n",
    "            batch_size=BATCH_SIZE,\n",
    "            num_workers=NUM_WORKERS,\n",
    "            shuffle=True\n",
    "            ))\n",
    "    \n",
    "    # create a final evaluation dataset and its dataloader\n",
    "    testset = fds.load_full(split='test').with_transform(transform_batch)\n",
    "    test_dataloader = DataLoader(dataset=testset,\n",
    "                                 batch_size=BATCH_SIZE,\n",
    "                                 num_workers=NUM_WORKERS,\n",
    "                                 shuffle=True)\n",
    "    \n",
    "    # return train, val and test data loaders\n",
    "    return train_loader, val_loader, test_dataloader"
   ]
  },
  {
   "cell_type": "code",
   "execution_count": 37,
   "metadata": {},
   "outputs": [],
   "source": [
    "# load cifar10 data\n",
    "trainloaders, valloaders, testloaders = load_transform_data()"
   ]
  },
  {
   "cell_type": "code",
   "execution_count": 38,
   "metadata": {},
   "outputs": [
    {
     "data": {
      "image/png": "[encoded data removed]",
      "text/plain": [
       "<Figure size 640x480 with 1 Axes>"
      ]
     },
     "metadata": {},
     "output_type": "display_data"
    }
   ],
   "source": [
    "# plot an image from the first partition's first batch\n",
    "\n",
    "sample = next(iter(trainloaders[0]))\n",
    "sample_img, labl = sample['img'][0], sample['label'][0]\n",
    "sample_img = sample_img.permute(1, 2, 0)\n",
    "plt.imshow(sample_img / 2 + 0.5) # denormalize and plot\n",
    "plt.title(trainloaders[0].dataset.features['label'].int2str(int(labl)))\n",
    "plt.show()"
   ]
  },
  {
   "cell_type": "markdown",
   "metadata": {},
   "source": [
    "### Centralized Training With Pytorch\n",
    "\n",
    "1. Create a simple CNN model\n",
    "2. Write train and test function\n",
    "3. Train the model"
   ]
  },
  {
   "cell_type": "code",
   "execution_count": 39,
   "metadata": {},
   "outputs": [],
   "source": [
    "# 1. Create a simple CNN model\n",
    "class SimpleCNN(nn.Module):\n",
    "    def __init__(self,) -> None:\n",
    "        super().__init__()\n",
    "        self.conv1 = nn.Conv2d(3, 6, 5)\n",
    "        self.pool = nn.MaxPool2d(2, 2)\n",
    "        self.conv2 = nn.Conv2d(6, 16, 5)\n",
    "        self.fc1 = nn.Linear(16 * 5 * 5, 120)\n",
    "        self.fc2 = nn.Linear(120, 84)\n",
    "        self.fc3 = nn.Linear(84, 10)\n",
    "    \n",
    "    def forward(self, x: torch.Tensor) -> torch.Tensor:\n",
    "        x = self.pool(F.relu(self.conv1(x)))\n",
    "        x = self.pool(F.relu(self.conv2(x)))\n",
    "        x = x.view(-1, 16 * 5 * 5)\n",
    "        x = F.relu(self.fc1(x))\n",
    "        x = F.relu(self.fc2(x))\n",
    "        x = self.fc3(x)\n",
    "        return x\n",
    "\n",
    "# 2. Train Test Functions\n",
    "def train(net, trainloader, epochs: int, verbose=False):\n",
    "    \"\"\"Train the network on the training set.\"\"\"\n",
    "    criterion = torch.nn.CrossEntropyLoss()\n",
    "    optimizer = torch.optim.Adam(net.parameters())\n",
    "    net.train()\n",
    "    for epoch in range(epochs):\n",
    "        correct, total, epoch_loss = 0, 0, 0.0\n",
    "        for batch in trainloader:\n",
    "            images, labels = batch[\"img\"].to(DEVICE), batch[\"label\"].to(DEVICE)\n",
    "            optimizer.zero_grad()\n",
    "            outputs = net(images)\n",
    "            loss = criterion(outputs, labels)\n",
    "            loss.backward()\n",
    "            optimizer.step()\n",
    "            # Metrics\n",
    "            epoch_loss += loss\n",
    "            total += labels.size(0)\n",
    "            correct += (torch.max(outputs.data, 1)[1] == labels).sum().item()\n",
    "        epoch_loss /= len(trainloader.dataset)\n",
    "        epoch_acc = correct / total\n",
    "        if verbose:\n",
    "            print(f\"Epoch {epoch+1}: train loss {epoch_loss}, accuracy {epoch_acc}\")\n",
    "\n",
    "\n",
    "def test(net, testloader):\n",
    "    \"\"\"Evaluate the network on the entire test set.\"\"\"\n",
    "    criterion = torch.nn.CrossEntropyLoss()\n",
    "    correct, total, loss = 0, 0, 0.0\n",
    "    net.eval()\n",
    "    with torch.inference_mode():\n",
    "        for batch in testloader:\n",
    "            images, labels = batch[\"img\"].to(DEVICE), batch[\"label\"].to(DEVICE)\n",
    "            outputs = net(images)\n",
    "            loss += criterion(outputs, labels).item()\n",
    "            _, predicted = torch.max(outputs.data, 1)\n",
    "            total += labels.size(0)\n",
    "            correct += (predicted == labels).sum().item()\n",
    "    loss /= len(testloader.dataset)\n",
    "    accuracy = correct / total\n",
    "    return loss, accuracy"
   ]
  },
  {
   "cell_type": "code",
   "execution_count": 40,
   "metadata": {},
   "outputs": [
    {
     "name": "stdout",
     "output_type": "stream",
     "text": [
      "Epoch 1: validation loss 0.04864181287288666, accuracy 0.434\n",
      "Epoch 2: validation loss 0.04460823554992676, accuracy 0.4832\n",
      "Epoch 3: validation loss 0.04228813263177872, accuracy 0.511\n",
      "Epoch 4: validation loss 0.04162742267847061, accuracy 0.5182\n",
      "Epoch 5: validation loss 0.03921552418470383, accuracy 0.5544\n",
      "Final test set performance:\n",
      "\tloss 0.03858657919764519\n",
      "\taccuracy 0.5572\n"
     ]
    }
   ],
   "source": [
    "# training the model\n",
    "trainloader_0 = trainloaders[0]\n",
    "valloader_0 = valloaders[0]\n",
    "net = SimpleCNN().to(DEVICE)\n",
    "\n",
    "# train and val\n",
    "for epoch in range(5):\n",
    "    train(net, trainloader_0, 1)\n",
    "    loss, accuracy = test(net, valloader_0)\n",
    "    print(f\"Epoch {epoch+1}: validation loss {loss}, accuracy {accuracy}\")\n",
    "\n",
    "# eval\n",
    "loss, accuracy = test(net, testloaders)\n",
    "print(f\"Final test set performance:\\n\\tloss {loss}\\n\\taccuracy {accuracy}\")"
   ]
  },
  {
   "cell_type": "markdown",
   "metadata": {},
   "source": [
    "### Starting On Federated Learning\n",
    "\n",
    "Steps:\n",
    "1. Create helper functions\n",
    "2. Implement Flower client class\n",
    "3. Virtual Client Engine\n",
    "\n",
    "#### Step 1: Helper Functions\n",
    "Need two helper functions:\n",
    "\n",
    "1. Send shared model parameters from central server to clients\n",
    "2. Receive update local model parameters to merge and update the shared model"
   ]
  },
  {
   "cell_type": "code",
   "execution_count": 41,
   "metadata": {},
   "outputs": [],
   "source": [
    "# set parameter: sending/updating local models with weight from central server.\n",
    "\n",
    "def set_parameter(model, parameters: List[np.ndarray]) -> None:\n",
    "    # convert paramaters/numpy arr back to tensors\n",
    "    param_tensors = [torch.from_numpy(param) for param in parameters]\n",
    "    # create a state dict from the given parameter\n",
    "    state_dict = OrderedDict(zip(model.state_dict().keys(), param_tensors))\n",
    "    # load it into the given model\n",
    "    model.load_state_dict(state_dict=state_dict, strict=True)\n",
    "    \n",
    "# get parameters: receive updated parameter from client\n",
    "def get_parameter(model) -> List[np.ndarray]:\n",
    "    # get tensor/parameter from model state dict, shift to cpu and convert to numpy\n",
    "    return [param_val.cpu().numpy() for _, param_val in model.state_dict().items()]"
   ]
  },
  {
   "cell_type": "markdown",
   "metadata": {},
   "source": [
    "#### Step 2: Create Client\n",
    "We can derive from flwr.client.Client or flwr.client.NumpyClient to create clients"
   ]
  },
  {
   "cell_type": "code",
   "execution_count": 42,
   "metadata": {},
   "outputs": [],
   "source": [
    "class FlowerClientCifar(fl.client.NumPyClient):\n",
    "    def __init__(self, model, trainloader, valloader) -> None:\n",
    "        super().__init__()\n",
    "        self.model = model\n",
    "        self.trainloader = trainloader\n",
    "        self.valloader = valloader\n",
    "\n",
    "    def get_parameters(self, config):\n",
    "        # return the local model's update parameters to central server\n",
    "        return get_parameter(self.model)\n",
    "    \n",
    "    def fit(self, parameters, config):\n",
    "        # load the parameters from central server to client's local model\n",
    "        set_parameter(self.model, parameters)\n",
    "        # train the local model\n",
    "        train(self.model, self.trainloader, epochs=1) # training for only 1 epoch\n",
    "        # return the updated weights to server, number of batches and other stuff\n",
    "        return get_parameter(self.model), len(self.trainloader), {}\n",
    "    \n",
    "    def evaluate(self, parameters, config):\n",
    "        # load the parameters from central server to client's local model\n",
    "        set_parameter(self.model, parameters)\n",
    "        # evaluate on local data\n",
    "        loss, accuracy = test(self.model, self.trainloader)\n",
    "        # return the results, number of batches, metrics dictionary\n",
    "        return float(loss), len(self.valloader), {'accuracy': float(accuracy)}"
   ]
  },
  {
   "cell_type": "markdown",
   "metadata": {},
   "source": [
    "#### Step 3: Using Virtual Client Engine (Flower VCE)\n",
    "\n",
    "Using `client_fn` function which creates client instances only when necessary."
   ]
  },
  {
   "cell_type": "code",
   "execution_count": 43,
   "metadata": {},
   "outputs": [],
   "source": [
    "def client_fn(cid: str):\n",
    "    \"\"\"Creates a flower client instance representing an organization\"\"\"\n",
    "\n",
    "    # load model\n",
    "    model = SimpleCNN().to(DEVICE)\n",
    "    # load client's own train & val data\n",
    "    trainloader_client = trainloaders[int(cid)]\n",
    "    valloaders_client = valloaders[int(cid)]\n",
    "    # return a flower client instance\n",
    "    return FlowerClientCifar(model, trainloader_client, valloaders_client).to_client()"
   ]
  },
  {
   "cell_type": "markdown",
   "metadata": {},
   "source": [
    "### Step 4: Training\n",
    "\n",
    "Simulating for 10 clients using CIFAR10 dataset and SimpleCNN architecture using the FedAvg Algorithm\n",
    "\n",
    "1. Choose strategy (FedAvg for us)\n",
    "2. Select client resources\n",
    "3. Metric aggregration function (Flower only aggregates losses returned by individual clients)\n",
    "4. Start simulation"
   ]
  },
  {
   "cell_type": "code",
   "execution_count": 44,
   "metadata": {},
   "outputs": [
    {
     "name": "stderr",
     "output_type": "stream",
     "text": [
      "INFO flwr 2024-03-07 11:35:43,501 | app.py:178 | Starting Flower simulation, config: ServerConfig(num_rounds=5, round_timeout=None)\n"
     ]
    },
    {
     "name": "stderr",
     "output_type": "stream",
     "text": [
      "2024-03-07 11:35:46,657\tINFO worker.py:1621 -- Started a local Ray instance.\n",
      "INFO flwr 2024-03-07 11:35:47,412 | app.py:213 | Flower VCE: Ray initialized with resources: {'CPU': 16.0, 'node:__internal_head__': 1.0, 'object_store_memory': 8308188364.0, 'node:10.255.93.233': 1.0, 'memory': 16616376731.0, 'GPU': 1.0, 'accelerator_type:G': 1.0}\n",
      "INFO flwr 2024-03-07 11:35:47,412 | app.py:219 | Optimize your simulation with Flower VCE: https://flower.dev/docs/framework/how-to-run-simulations.html\n",
      "INFO flwr 2024-03-07 11:35:47,413 | app.py:242 | Flower VCE: Resources for each Virtual Client: {'num_cpus': 8, 'num_gpus': 1}\n",
      "INFO flwr 2024-03-07 11:35:47,418 | app.py:288 | Flower VCE: Creating VirtualClientEngineActorPool with 1 actors\n",
      "INFO flwr 2024-03-07 11:35:47,419 | server.py:89 | Initializing global parameters\n",
      "INFO flwr 2024-03-07 11:35:47,419 | server.py:276 | Requesting initial parameters from one random client\n",
      "INFO flwr 2024-03-07 11:35:49,240 | server.py:280 | Received initial parameters from one random client\n",
      "INFO flwr 2024-03-07 11:35:49,240 | server.py:91 | Evaluating initial parameters\n",
      "INFO flwr 2024-03-07 11:35:49,241 | server.py:104 | FL starting\n",
      "DEBUG flwr 2024-03-07 11:35:49,241 | server.py:222 | fit_round 1: strategy sampled 2 clients (out of 2)\n",
      "DEBUG flwr 2024-03-07 11:35:52,763 | server.py:236 | fit_round 1 received 2 results and 0 failures\n",
      "WARNING flwr 2024-03-07 11:35:52,766 | fedavg.py:250 | No fit_metrics_aggregation_fn provided\n",
      "DEBUG flwr 2024-03-07 11:35:52,766 | server.py:173 | evaluate_round 1: strategy sampled 2 clients (out of 2)\n",
      "DEBUG flwr 2024-03-07 11:35:54,882 | server.py:187 | evaluate_round 1 received 2 results and 0 failures\n",
      "DEBUG flwr 2024-03-07 11:35:54,882 | server.py:222 | fit_round 2: strategy sampled 2 clients (out of 2)\n",
      "DEBUG flwr 2024-03-07 11:35:58,252 | server.py:236 | fit_round 2 received 2 results and 0 failures\n",
      "DEBUG flwr 2024-03-07 11:35:58,253 | server.py:173 | evaluate_round 2: strategy sampled 2 clients (out of 2)\n",
      "DEBUG flwr 2024-03-07 11:36:00,298 | server.py:187 | evaluate_round 2 received 2 results and 0 failures\n",
      "DEBUG flwr 2024-03-07 11:36:00,298 | server.py:222 | fit_round 3: strategy sampled 2 clients (out of 2)\n",
      "DEBUG flwr 2024-03-07 11:36:03,901 | server.py:236 | fit_round 3 received 2 results and 0 failures\n",
      "DEBUG flwr 2024-03-07 11:36:03,903 | server.py:173 | evaluate_round 3: strategy sampled 2 clients (out of 2)\n",
      "DEBUG flwr 2024-03-07 11:36:05,980 | server.py:187 | evaluate_round 3 received 2 results and 0 failures\n",
      "DEBUG flwr 2024-03-07 11:36:05,980 | server.py:222 | fit_round 4: strategy sampled 2 clients (out of 2)\n",
      "DEBUG flwr 2024-03-07 11:36:09,276 | server.py:236 | fit_round 4 received 2 results and 0 failures\n",
      "DEBUG flwr 2024-03-07 11:36:09,278 | server.py:173 | evaluate_round 4: strategy sampled 2 clients (out of 2)\n",
      "DEBUG flwr 2024-03-07 11:36:11,425 | server.py:187 | evaluate_round 4 received 2 results and 0 failures\n",
      "DEBUG flwr 2024-03-07 11:36:11,425 | server.py:222 | fit_round 5: strategy sampled 2 clients (out of 2)\n",
      "DEBUG flwr 2024-03-07 11:36:14,725 | server.py:236 | fit_round 5 received 2 results and 0 failures\n",
      "DEBUG flwr 2024-03-07 11:36:14,726 | server.py:173 | evaluate_round 5: strategy sampled 2 clients (out of 2)\n",
      "DEBUG flwr 2024-03-07 11:36:16,844 | server.py:187 | evaluate_round 5 received 2 results and 0 failures\n",
      "INFO flwr 2024-03-07 11:36:16,845 | server.py:153 | FL finished in 27.60374938399991\n",
      "INFO flwr 2024-03-07 11:36:16,845 | app.py:226 | app_fit: losses_distributed [(1, 0.051483777782320966), (2, 0.0433196565464139), (3, 0.03955789704620838), (4, 0.03759832368195057), (5, 0.03516188629120588)]\n",
      "INFO flwr 2024-03-07 11:36:16,845 | app.py:227 | app_fit: metrics_distributed_fit {}\n",
      "INFO flwr 2024-03-07 11:36:16,845 | app.py:228 | app_fit: metrics_distributed {'accuracy': [(1, 0.4341), (2, 0.495225), (3, 0.5412750000000001), (4, 0.5707), (5, 0.5951500000000001)]}\n",
      "INFO flwr 2024-03-07 11:36:16,846 | app.py:229 | app_fit: losses_centralized []\n",
      "INFO flwr 2024-03-07 11:36:16,846 | app.py:230 | app_fit: metrics_centralized {}\n"
     ]
    },
    {
     "data": {
      "text/plain": [
       "History (loss, distributed):\n",
       "\tround 1: 0.051483777782320966\n",
       "\tround 2: 0.0433196565464139\n",
       "\tround 3: 0.03955789704620838\n",
       "\tround 4: 0.03759832368195057\n",
       "\tround 5: 0.03516188629120588\n",
       "History (metrics, distributed, evaluate):\n",
       "{'accuracy': [(1, 0.4341), (2, 0.495225), (3, 0.5412750000000001), (4, 0.5707), (5, 0.5951500000000001)]}"
      ]
     },
     "execution_count": 44,
     "metadata": {},
     "output_type": "execute_result"
    }
   ],
   "source": [
    "# 1. Metric aggregation for evaluation\n",
    "# implemented simple weighted aggregation\n",
    "def weighted_avg(metrics: List[Tuple[int, Metrics]]) -> Metrics:\n",
    "    # multiply accuracy of each client with num_samples\n",
    "    accuracies = [num_samp * m['accuracy'] for num_samp, m in metrics]\n",
    "    samples = [num_samp for num_samp, _ in metrics]\n",
    "\n",
    "    # return weighted accuracy\n",
    "    return {'accuracy': sum(accuracies) / sum(samples)}\n",
    "\n",
    "# 2. strategy\n",
    "strategy = fl.server.strategy.FedAvg(\n",
    "    fraction_fit=1, # available client percentage to sample for training\n",
    "    fraction_evaluate=0.5, # available client percentage to sample for evaluation\n",
    "    min_fit_clients=2, # min num of clients to sample for training\n",
    "    min_evaluate_clients=2, # min num of clients to sample for evaluation\n",
    "    min_available_clients=2, # wait until given clients are available\n",
    "    evaluate_metrics_aggregation_fn=weighted_avg\n",
    ")\n",
    "\n",
    "# 3. client resources\n",
    "client_resources = {\n",
    "        'num_cpus' : NUM_WORKERS//NUM_CLIENTS,\n",
    "        'num_gpus' : 1 if DEVICE.type == 'cuda' else 0\n",
    "    }\n",
    "    \n",
    "# 4. start simulation\n",
    "fl.simulation.start_simulation(\n",
    "    client_fn=client_fn,\n",
    "    num_clients = NUM_CLIENTS,\n",
    "    strategy=strategy,\n",
    "    client_resources=client_resources,\n",
    "    config=fl.server.ServerConfig(num_rounds=5)\n",
    ")"
   ]
  },
  {
   "cell_type": "code",
   "execution_count": 45,
   "metadata": {},
   "outputs": [
    {
     "data": {
      "text/plain": [
       "2"
      ]
     },
     "execution_count": 45,
     "metadata": {},
     "output_type": "execute_result"
    }
   ],
   "source": [
    "len(trainloaders)"
   ]
  }
 ],
 "metadata": {
  "kernelspec": {
   "display_name": "Python 3",
   "language": "python",
   "name": "python3"
  },
  "language_info": {
   "codemirror_mode": {
    "name": "ipython",
    "version": 3
   },
   "file_extension": ".py",
   "mimetype": "text/x-python",
   "name": "python",
   "nbconvert_exporter": "python",
   "pygments_lexer": "ipython3",
   "version": "3.10.12"
  }
 },
 "nbformat": 4,
 "nbformat_minor": 2
}
